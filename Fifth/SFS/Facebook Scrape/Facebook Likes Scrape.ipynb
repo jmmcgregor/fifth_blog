{
 "cells": [
  {
   "cell_type": "code",
   "execution_count": 1,
   "metadata": {
    "collapsed": true
   },
   "outputs": [],
   "source": [
    "from bs4 import BeautifulSoup\n",
    "import requests\n",
    "import selenium\n",
    "from selenium import webdriver\n",
    "from selenium.webdriver.common.keys import Keys\n",
    "from selenium.common.exceptions import TimeoutException\n",
    "from selenium.webdriver.support.ui import WebDriverWait\n",
    "from selenium.webdriver.support import expected_conditions as EC\n",
    "from selenium.webdriver.common.by import By\n",
    "from random import randint\n",
    "from time import sleep\n",
    "import re\n",
    "import json\n",
    "import datetime\n",
    "import time\n",
    "from selenium.webdriver.common.proxy import Proxy, ProxyType\n",
    "from selenium.webdriver.common.desired_capabilities import DesiredCapabilities"
   ]
  },
  {
   "cell_type": "code",
   "execution_count": null,
   "metadata": {
    "collapsed": true
   },
   "outputs": [],
   "source": [
    "likesContainer = []"
   ]
  },
  {
   "cell_type": "code",
   "execution_count": 2,
   "metadata": {
    "collapsed": true
   },
   "outputs": [],
   "source": [
    "browser = webdriver.Chrome('/Users/jordanmcgregor/Downloads/chromedriver 3')"
   ]
  },
  {
   "cell_type": "code",
   "execution_count": 3,
   "metadata": {
    "collapsed": true
   },
   "outputs": [],
   "source": [
    "base_url = 'https://www.facebook.com'"
   ]
  },
  {
   "cell_type": "code",
   "execution_count": 4,
   "metadata": {
    "collapsed": true
   },
   "outputs": [],
   "source": [
    "browser.get(base_url)"
   ]
  },
  {
   "cell_type": "code",
   "execution_count": 9,
   "metadata": {
    "collapsed": false
   },
   "outputs": [
    {
     "name": "stdout",
     "output_type": "stream",
     "text": [
      "if\n",
      "elif 2\n",
      "elif 2\n",
      "elif 2\n",
      "elif 2\n",
      "elif 2\n",
      "elif 2\n",
      "elif 2\n",
      "elif 2\n",
      "elif 2\n",
      "elif 2\n",
      "elif 2\n",
      "elif 2\n",
      "elif 2\n",
      "elif 2\n",
      "elif 2\n",
      "elif 2\n"
     ]
    }
   ],
   "source": [
    "html = browser.page_source\n",
    "soup = BeautifulSoup(html, 'html.parser')\n",
    "likesList = soup.find_all(class_='_3i9')[0]\n",
    "likes = likesList.find_all('li')\n",
    "\n",
    "with open('likes.json') as compiled:\n",
    "        houses = json.load(compiled)\n",
    "\n",
    "for i in range(0,len(likes)):\n",
    "    likesData = {}\n",
    "    \n",
    "    like = likes[i].find_all(class_='fsl')[0].a.contents[0]\n",
    "    if i == 0 and len(likesContainer) == 0:\n",
    "        likesData['like'] = ''\n",
    "        likesData['numRepeatLikes'] = 0\n",
    "        likesContainer.append(likesData)\n",
    "    \n",
    "    for j in range(0,len(likesContainer)):\n",
    "          if j == 0 and len(likesContainer) == 1 and i == 0:\n",
    "            likesContainer[0]['like'] = like\n",
    "            likesContainer[0]['numRepeatLikes'] = 1\n",
    "            print('if')\n",
    "            break\n",
    "          elif like == likesContainer[j]['like']:\n",
    "            numRepeatLikes = likesContainer[j]['numRepeatLikes']\n",
    "            numRepeatLikes = numRepeatLikes + 1\n",
    "            likesContainer[j]['numRepeatLikes'] = numRepeatLikes\n",
    "            print('elif 1')\n",
    "            break\n",
    "          elif j == len(likesContainer) - 1:\n",
    "            likesData['like'] = like\n",
    "            likesData['numRepeatLikes'] = 1\n",
    "            likesContainer.append(likesData)\n",
    "            print('elif 2')\n",
    "        \n",
    "likesContainer \n",
    "out_file_compiled = 'likes.json'\n",
    "json.dump(likesContainer,open(out_file_compiled, 'w'))"
   ]
  },
  {
   "cell_type": "code",
   "execution_count": null,
   "metadata": {
    "collapsed": true
   },
   "outputs": [],
   "source": [
    "SCROLL_PAUSE_TIME = 0.5\n",
    "i = 0\n",
    "\n",
    "# Get scroll height\n",
    "last_height = browser.execute_script(\"return document.body.scrollHeight\")\n",
    "\n",
    "while True:\n",
    "    # Scroll down to bottom\n",
    "    browser.execute_script(\"window.scrollTo(0, document.body.scrollHeight);\")\n",
    "\n",
    "    # Wait to load page\n",
    "    time.sleep(SCROLL_PAUSE_TIME)\n",
    "\n",
    "    \n",
    "    # Calculate new scroll height and compare with last scroll height\n",
    "    new_height = browser.execute_script(\"return document.body.scrollHeight\")\n",
    "    if new_height == last_height:\n",
    "        i = i + 1\n",
    "        if i == 10:\n",
    "            break\n",
    "    last_height = new_height"
   ]
  }
 ],
 "metadata": {
  "kernelspec": {
   "display_name": "Python 3",
   "language": "python",
   "name": "python3"
  },
  "language_info": {
   "codemirror_mode": {
    "name": "ipython",
    "version": 3
   },
   "file_extension": ".py",
   "mimetype": "text/x-python",
   "name": "python",
   "nbconvert_exporter": "python",
   "pygments_lexer": "ipython3",
   "version": "3.6.1"
  }
 },
 "nbformat": 4,
 "nbformat_minor": 2
}
